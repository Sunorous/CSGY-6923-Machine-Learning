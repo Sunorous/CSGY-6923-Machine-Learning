{
 "cells": [
  {
   "cell_type": "code",
   "execution_count": 1,
   "id": "d293fde0-2404-433b-a514-6c5f98b3bf8b",
   "metadata": {
    "tags": []
   },
   "outputs": [],
   "source": [
    "import numpy as np\n",
    "import pandas\n",
    "import sklearn\n",
    "import matplotlib.pyplot as plt\n",
    "import tensorflow as tf\n",
    "import keras\n",
    "import imblearn"
   ]
  },
  {
   "cell_type": "code",
   "execution_count": 2,
   "id": "7a6c2693-d557-40ab-9bc7-7fc3c4f6425a",
   "metadata": {
    "tags": []
   },
   "outputs": [],
   "source": [
    "#read the kddcup99 file into a dataframe\n",
    "\n",
    "kddcup99 = pandas.read_csv('kddcup99.csv')"
   ]
  },
  {
   "cell_type": "code",
   "execution_count": 3,
   "id": "649ad92f-751b-46f0-b031-39a101b568e5",
   "metadata": {
    "tags": []
   },
   "outputs": [],
   "source": [
    "#add a mew column and classify whether the attack is a probe or not based on the label\n",
    "\n",
    "def dos_class(label):\n",
    "    if label in ['back', 'land', 'neptune', 'pod', 'smurf', 'teardrop']:\n",
    "        return 1\n",
    "    else:\n",
    "        return 0\n",
    "\n",
    "#adding the new column as well as filtering out the normal data and dropping the labels    \n",
    "kddcup99['dos'] = kddcup99['label'].apply(dos_class)\n",
    "kddcup99_filtered = kddcup99[kddcup99['label'] != 'normal']\n",
    "kddcup99_filtered = kddcup99_filtered.drop('label', axis=1)\n",
    "#kddcup99_filtered.to_csv('out.csv', index=False)\n",
    "#test the output file"
   ]
  },
  {
   "cell_type": "code",
   "execution_count": 4,
   "id": "29b4ae8c-df69-4a12-aaa9-aebc04b4e4d2",
   "metadata": {
    "tags": []
   },
   "outputs": [
    {
     "name": "stdout",
     "output_type": "stream",
     "text": [
      "Misclassification examples: 150\n",
      "Train accuracy: 0.928\n",
      "Test accuracy: 0.998\n"
     ]
    }
   ],
   "source": [
    "from sklearn.model_selection import train_test_split\n",
    "from sklearn.svm import SVC\n",
    "from sklearn.utils import resample\n",
    "from sklearn.preprocessing import OneHotEncoder, MinMaxScaler  \n",
    "from imblearn.under_sampling import RandomUnderSampler\n",
    "\n",
    "#set up features and target data\n",
    "X = kddcup99_filtered.drop('dos', axis=1)  # features\n",
    "y = kddcup99_filtered['dos']  # target\n",
    "\n",
    "#encode the string categories using one hot encoder\n",
    "categorical_cols = ['protocol_type', 'service', 'flag']\n",
    "encoder = OneHotEncoder(categories='auto', sparse_output=False)\n",
    "X_encoded = encoder.fit_transform(X[categorical_cols])\n",
    "\n",
    "#scale the features\n",
    "scaler = MinMaxScaler()\n",
    "X_encoded_scaled = scaler.fit_transform(X_encoded)\n",
    "\n",
    "#split the data into training and testing sets\n",
    "X_train, X_test, y_train, y_test = train_test_split(X_encoded_scaled, y, test_size=0.2)\n",
    "\n",
    "#balance the data sampling using RUS\n",
    "RUS = RandomUnderSampler()\n",
    "X_train_resampled, y_train_resampled = RUS.fit_resample(X_train, y_train)\n",
    "\n",
    "#train SVM Model with linear kernel\n",
    "svm_classifier = SVC(kernel='linear')\n",
    "svm_classifier.fit(X_train, y_train)\n",
    "\n",
    "#predict test data\n",
    "y_pred = svm_classifier.predict(X_test)\n",
    "\n",
    "print('Misclassification examples: %d' % (y_test != y_pred).sum())\n",
    "print('Train accuracy: %.3f' % svm_classifier.score(X_train_resampled, y_train_resampled))\n",
    "print('Test accuracy: %.3f' % svm_classifier.score(X_test, y_test))"
   ]
  },
  {
   "cell_type": "code",
   "execution_count": 5,
   "id": "f87b248d-84ed-4258-8bf3-6ba45baec765",
   "metadata": {
    "tags": []
   },
   "outputs": [
    {
     "name": "stdout",
     "output_type": "stream",
     "text": [
      "Misclassification examples: 139\n",
      "Train accuracy: 0.932\n",
      "Test accuracy: 0.998\n"
     ]
    }
   ],
   "source": [
    "#train SVM Model with polynomial kernel\n",
    "svm_classifier = SVC(kernel='poly')\n",
    "svm_classifier.fit(X_train, y_train)\n",
    "\n",
    "#predict test data\n",
    "y_pred = svm_classifier.predict(X_test)\n",
    "\n",
    "print('Misclassification examples: %d' % (y_test != y_pred).sum())\n",
    "print('Train accuracy: %.3f' % svm_classifier.score(X_train_resampled, y_train_resampled))\n",
    "print('Test accuracy: %.3f' % svm_classifier.score(X_test, y_test))"
   ]
  },
  {
   "cell_type": "code",
   "execution_count": 6,
   "id": "badd7d01-10e5-4d1b-af70-2c18f6ec78f8",
   "metadata": {
    "tags": []
   },
   "outputs": [
    {
     "name": "stdout",
     "output_type": "stream",
     "text": [
      "Misclassification examples: 139\n",
      "Train accuracy: 0.932\n",
      "Test accuracy: 0.998\n"
     ]
    }
   ],
   "source": [
    "#train SVM Model with RBF kernel\n",
    "svm_classifier = SVC(kernel='rbf')\n",
    "svm_classifier.fit(X_train, y_train)\n",
    "\n",
    "#predict test data\n",
    "y_pred = svm_classifier.predict(X_test)\n",
    "\n",
    "print('Misclassification examples: %d' % (y_test != y_pred).sum())\n",
    "print('Train accuracy: %.3f' % svm_classifier.score(X_train_resampled, y_train_resampled))\n",
    "print('Test accuracy: %.3f' % svm_classifier.score(X_test, y_test))"
   ]
  },
  {
   "cell_type": "code",
   "execution_count": 7,
   "id": "f6883681-3733-4825-92fe-eb9020ba4679",
   "metadata": {
    "tags": []
   },
   "outputs": [
    {
     "name": "stdout",
     "output_type": "stream",
     "text": [
      "Misclassification examples: 199\n",
      "Train accuracy: 0.907\n",
      "Test accuracy: 0.997\n"
     ]
    }
   ],
   "source": [
    "#train SVM Model with sigmoid kernel\n",
    "svm_classifier = SVC(kernel='sigmoid')\n",
    "svm_classifier.fit(X_train, y_train)\n",
    "\n",
    "#predict test data\n",
    "y_pred = svm_classifier.predict(X_test)\n",
    "\n",
    "print('Misclassification examples: %d' % (y_test != y_pred).sum())\n",
    "print('Train accuracy: %.3f' % svm_classifier.score(X_train_resampled, y_train_resampled))\n",
    "print('Test accuracy: %.3f' % svm_classifier.score(X_test, y_test))"
   ]
  },
  {
   "cell_type": "code",
   "execution_count": 8,
   "id": "a27ecaae-56a0-461a-96fc-66c43c3595e7",
   "metadata": {
    "tags": []
   },
   "outputs": [],
   "source": [
    "#Linear, poly, and RBF kernels all had similar test accuracy, train accuracy and run time. All three yielded great results. \n",
    "#Sigmoid however, took significatly longer to fit. The train accuracy of sigmoid is also lower with more misclassifications. \n",
    "#All four model successfully fit with 90%+ train and test accuracies. Main difference is linear, poly and RBF are ~3% more accurate and significantly faster to fit than sigmoid.\n",
    "#Linear, poly and RBF are versatile and commonly used in a variety of data sets in both linear separable and non separable.\n",
    "#Sigmoid on the other hand is more rare and mostly used to model sigmoid-like decision boundaries. "
   ]
  },
  {
   "cell_type": "code",
   "execution_count": 32,
   "id": "29fc6d77-443d-4ef2-b666-9d4efac15fe2",
   "metadata": {
    "tags": []
   },
   "outputs": [
    {
     "data": {
      "image/png": "[encoded data removed]",
      "text/plain": [
       "<Figure size 640x480 with 2 Axes>"
      ]
     },
     "metadata": {},
     "output_type": "display_data"
    }
   ],
   "source": [
    "import matplotlib.pyplot as plt\n",
    "from sklearn import datasets, svm\n",
    "from sklearn.inspection import DecisionBoundaryDisplay\n",
    "from imblearn.under_sampling import RandomUnderSampler\n",
    "\n",
    "#set up features and target data\n",
    "X = kddcup99_filtered[['dst_host_count', 'dst_host_srv_count']]  # features count and srv_count\n",
    "y = kddcup99_filtered['dos']  # target\n",
    "\n",
    "subsample_ratio = 0.01\n",
    "num_samples = int(len(X) * subsample_ratio)\n",
    "random_indices = np.random.choice(len(X), num_samples, replace=False)\n",
    "X_subsampled = X.iloc[random_indices]\n",
    "y_subsampled = y.iloc[random_indices]\n",
    "\n",
    "#visualization\n",
    "models = (svm.SVC(kernel='linear'), svm.SVC(kernel='rbf'))\n",
    "models = (clf.fit(X_subsampled, y_subsampled) for clf in models)\n",
    "titles = ('SVC with linear kernel', 'SVC with RBF kernel')\n",
    "\n",
    "# Set-up 1x2 grid for plotting.\n",
    "fig, sub = plt.subplots(1, 2)\n",
    "plt.subplots_adjust(wspace=0.4, hspace=0.4)\n",
    "\n",
    "X0 = X_subsampled['dst_host_count']\n",
    "X1 = X_subsampled['dst_host_srv_count']\n",
    "\n",
    "colors = ['red' if label == 1 else 'blue' for label in y_subsampled]\n",
    "\n",
    "for clf, title, ax in zip(models, titles, sub.flatten()):\n",
    "    disp = DecisionBoundaryDisplay.from_estimator(\n",
    "        clf,\n",
    "        X_subsampled,\n",
    "        response_method=\"predict\",\n",
    "        cmap=plt.cm.coolwarm,\n",
    "        alpha=0.8,\n",
    "        ax=ax,\n",
    "        xlabel='dst_host_count',\n",
    "        ylabel='dst_host_srv_count',\n",
    "    )\n",
    "    ax.scatter(X0, X1, c=colors, s=20, edgecolors=\"k\")\n",
    "    ax.set_xticks(np.arange(min(X0), max(X0) + 1, 50))\n",
    "    ax.set_yticks(np.arange(min(X1), max(X1) + 1, 50))\n",
    "    ax.set_title(title)\n",
    "    ax.set_aspect('equal')\n",
    "\n",
    "plt.show()\n"
   ]
  },
  {
   "cell_type": "code",
   "execution_count": null,
   "id": "6614bc57-c7ab-4931-948b-a7274e6c9127",
   "metadata": {},
   "outputs": [],
   "source": [
    "#I selected dst_host_count and dst_host_srv_count features for the visualization. The linear kernel model provides a good estimation but there are alot of misclassified samples. \n",
    "#In this case, RBF kernel model does a better job fitting the data and reduce the number of misclassifications. \n",
    "#Linear is most used for linearly separable data. In this problem, the data is not linearly separable. RBF should be used. "
   ]
  }
 ],
 "metadata": {
  "kernelspec": {
   "display_name": "Python 3 (ipykernel)",
   "language": "python",
   "name": "python3"
  },
  "language_info": {
   "codemirror_mode": {
    "name": "ipython",
    "version": 3
   },
   "file_extension": ".py",
   "mimetype": "text/x-python",
   "name": "python",
   "nbconvert_exporter": "python",
   "pygments_lexer": "ipython3",
   "version": "3.8.16"
  }
 },
 "nbformat": 4,
 "nbformat_minor": 5
}
